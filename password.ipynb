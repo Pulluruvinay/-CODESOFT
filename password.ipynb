{
 "cells": [
  {
   "cell_type": "markdown",
   "id": "b074c408",
   "metadata": {},
   "source": [
    "### "
   ]
  },
  {
   "cell_type": "code",
   "execution_count": null,
   "id": "f42564d4",
   "metadata": {},
   "outputs": [],
   "source": []
  },
  {
   "cell_type": "code",
   "execution_count": 2,
   "id": "9681ad83",
   "metadata": {},
   "outputs": [
    {
     "name": "stdout",
     "output_type": "stream",
     "text": [
      "enter the lowercase character: 3\n",
      "enter the uppercase character: 2\n",
      "enter no of digits: 3\n",
      "enter the no of symbols1\n",
      "password is: Jb293cPf{\n"
     ]
    }
   ],
   "source": [
    "import string \n",
    "import random\n",
    "lower_len=int(input(\"enter the lowercase character: \"))\n",
    "upper_len=int(input(\"enter the uppercase character: \" ))\n",
    "digits_len=int(input(\"enter no of digits: \"))\n",
    "symbols_len=int(input(\"enter the no of symbols\"))\n",
    "password_len=lower_len+upper_len+digits_len+symbols_len\n",
    "lower=string.ascii_lowercase\n",
    "upper=string.ascii_uppercase\n",
    "digits=string.digits\n",
    "symbols=string.punctuation\n",
    "str=random.choices(lower,k=lower_len)+random.choices(upper,k=upper_len)+random.choices(digits,k=digits_len)+random.choices(symbols,k=symbols_len)\n",
    "random.shuffle(str)\n",
    "password=\"\".join(str)\n",
    "print(\"password is:\",password)"
   ]
  }
 ],
 "metadata": {
  "kernelspec": {
   "display_name": "Python 3 (ipykernel)",
   "language": "python",
   "name": "python3"
  },
  "language_info": {
   "codemirror_mode": {
    "name": "ipython",
    "version": 3
   },
   "file_extension": ".py",
   "mimetype": "text/x-python",
   "name": "python",
   "nbconvert_exporter": "python",
   "pygments_lexer": "ipython3",
   "version": "3.11.3"
  }
 },
 "nbformat": 4,
 "nbformat_minor": 5
}
